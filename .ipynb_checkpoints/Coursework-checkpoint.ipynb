{
 "cells": [
  {
   "cell_type": "markdown",
   "id": "80b0fed3",
   "metadata": {},
   "source": [
    "# IN3063 - Coursework 2"
   ]
  },
  {
   "cell_type": "markdown",
   "id": "1bd65977",
   "metadata": {},
   "source": [
    "### Team members:\n",
    "1. Aymen \n",
    "2. Philip\n",
    "3. Adam\n",
    "4. Taha"
   ]
  },
  {
   "cell_type": "code",
   "execution_count": null,
   "id": "e1a14653",
   "metadata": {},
   "outputs": [],
   "source": []
  }
 ],
 "metadata": {
  "kernelspec": {
   "display_name": "Python 3 (ipykernel)",
   "language": "python",
   "name": "python3"
  },
  "language_info": {
   "codemirror_mode": {
    "name": "ipython",
    "version": 3
   },
   "file_extension": ".py",
   "mimetype": "text/x-python",
   "name": "python",
   "nbconvert_exporter": "python",
   "pygments_lexer": "ipython3",
   "version": "3.11.5"
  }
 },
 "nbformat": 4,
 "nbformat_minor": 5
}
