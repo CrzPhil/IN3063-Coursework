{
 "cells": [
  {
   "cell_type": "markdown",
   "id": "edfd1ebf",
   "metadata": {},
   "source": [
    "# IN3063 - Coursework"
   ]
  },
  {
   "cell_type": "markdown",
   "id": "4c66e90e",
   "metadata": {},
   "source": [
    "### Team members:\n",
    "1. Aymen \n",
    "2. Philip\n",
    "3. Adam\n",
    "4. Taha"
   ]
  },
  {
   "cell_type": "markdown",
   "id": "da372ae8",
   "metadata": {},
   "source": [
    "## Libraries"
   ]
  },
  {
   "cell_type": "code",
   "execution_count": null,
   "id": "723a7cf4",
   "metadata": {},
   "outputs": [],
   "source": [
    "import math\n",
    "import numpy as np\n",
    "from numpy.random import default_rng\n",
    "import matplotlib.pyplot as plt"
   ]
  },
  {
   "cell_type": "markdown",
   "id": "8cb0f9e5",
   "metadata": {},
   "source": [
    "## Sigmoid & ReLU"
   ]
  },
  {
   "cell_type": "markdown",
   "id": "412fa30c",
   "metadata": {},
   "source": [
    "- By Aymen"
   ]
  },
  {
   "cell_type": "code",
   "execution_count": 2,
   "id": "ed98cad4",
   "metadata": {},
   "outputs": [],
   "source": [
    "# sigmoid\n",
    "def sigmoid(x):\n",
    "    return 1 / (1 + np.exp(-x))\n",
    "\n",
    "# backpropagation\n",
    "# ..."
   ]
  },
  {
   "cell_type": "markdown",
   "id": "7f493982",
   "metadata": {},
   "source": [
    "## Softmax"
   ]
  },
  {
   "cell_type": "markdown",
   "id": "febca3b9",
   "metadata": {},
   "source": [
    "- By Aymen"
   ]
  },
  {
   "cell_type": "code",
   "execution_count": null,
   "id": "6c0f1466",
   "metadata": {},
   "outputs": [],
   "source": []
  },
  {
   "cell_type": "markdown",
   "id": "31dd9266",
   "metadata": {},
   "source": [
    "## Dropout"
   ]
  },
  {
   "cell_type": "markdown",
   "id": "66744b60",
   "metadata": {},
   "source": [
    "- By Adam"
   ]
  },
  {
   "cell_type": "code",
   "execution_count": null,
   "id": "3955086a",
   "metadata": {},
   "outputs": [],
   "source": [
    "def dropout():\n",
    "    pass # placeholder"
   ]
  }
 ],
 "metadata": {
  "kernelspec": {
   "display_name": "Python 3 (ipykernel)",
   "language": "python",
   "name": "python3"
  },
  "language_info": {
   "codemirror_mode": {
    "name": "ipython",
    "version": 3
   },
   "file_extension": ".py",
   "mimetype": "text/x-python",
   "name": "python",
   "nbconvert_exporter": "python",
   "pygments_lexer": "ipython3",
   "version": "3.11.5"
  }
 },
 "nbformat": 4,
 "nbformat_minor": 5
}
