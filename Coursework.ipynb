{
 "cells": [
  {
   "cell_type": "markdown",
   "id": "a4dcc0a5",
   "metadata": {},
   "source": [
    "# IN3063 - Coursework"
   ]
  },
  {
   "cell_type": "markdown",
   "id": "d0f9b16f",
   "metadata": {},
   "source": [
    "### Team members:\n",
    "1. Aymen \n",
    "2. Philip\n",
    "3. Adam\n",
    "4. Taha"
   ]
  },
  {
   "cell_type": "code",
   "execution_count": null,
   "id": "5959ec09",
   "metadata": {},
   "outputs": [],
   "source": []
  }
 ],
 "metadata": {
  "kernelspec": {
   "display_name": "Python 3 (ipykernel)",
   "language": "python",
   "name": "python3"
  },
  "language_info": {
   "codemirror_mode": {
    "name": "ipython",
    "version": 3
   },
   "file_extension": ".py",
   "mimetype": "text/x-python",
   "name": "python",
   "nbconvert_exporter": "python",
   "pygments_lexer": "ipython3",
   "version": "3.11.5"
  }
 },
 "nbformat": 4,
 "nbformat_minor": 5
}
